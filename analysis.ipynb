{
 "cells": [
  {
   "cell_type": "code",
   "execution_count": 8,
   "metadata": {},
   "outputs": [],
   "source": [
    "import apd_utils as apd\n",
    "import numpy as np \n",
    "import pandas as pd\n",
    "\n",
    "from sklearn.preprocessing import StandardScaler\n",
    "from sklearn.decomposition import PCA\n",
    "from sklearn.cluster import DBSCAN"
   ]
  },
  {
   "attachments": {},
   "cell_type": "markdown",
   "metadata": {},
   "source": [
    "## 1. Generate a referenced dataset and a random sample and perform DBSCAN\n",
    "The first step is to generate a reference dataset and set up a generic analytical worflow. To evaluate a sample, only 5 steps are required as shown below. Note that in this step we generated a non-adulterated sample so it is expected that the label of the sample predicted by DBSCAN is identical to the lables of referenced samples. "
   ]
  },
  {
   "cell_type": "code",
   "execution_count": 12,
   "metadata": {},
   "outputs": [
    {
     "name": "stdout",
     "output_type": "stream",
     "text": [
      "Labels for referenced data: [0 0 0 0 0 0 0 0 0 0 0 0 0 0 0 0 0 0 0 0 0 0 0 0 0 0 0 0 0 0 0 0 0 0 0 0 0\n",
      " 0 0 0 0 0 0 0 0 0 0 0 0 0]\n",
      "Label for the non-adulterated sample: 0\n"
     ]
    }
   ],
   "source": [
    "# 1. Generate a referenced dataset to represent authentic products\n",
    "data_ref = apd.generate_ref_data(num_sample=50, num_analyte=200, seed=32)\n",
    "\n",
    "# 2. Generate a non-adulterated random sample\n",
    "sample_ref = apd.generate_random_sample(data_ref, adulterated=False)\n",
    "\n",
    "# 3. Combine referenced data and the random sample\n",
    "data_comb = np.concatenate((data_ref, sample_ref), axis=0)\n",
    "\n",
    "# 4. Scale the data  \n",
    "scaler = StandardScaler()\n",
    "scaled_data = scaler.fit_transform(data_comb)\n",
    "\n",
    "# 5. Perform DBSCAN on scaled data\n",
    "dbscan = DBSCAN(eps=20, min_samples=-1).fit(scaled_data)\n",
    "\n",
    "print(f\"Labels for referenced data: {dbscan.labels_[0:50]}\")\n",
    "print(f\"Label for the non-adulterated sample: {dbscan.labels_[-1]}\")"
   ]
  },
  {
   "cell_type": "code",
   "execution_count": null,
   "metadata": {},
   "outputs": [],
   "source": []
  }
 ],
 "metadata": {
  "kernelspec": {
   "display_name": "Python 3",
   "language": "python",
   "name": "python3"
  },
  "language_info": {
   "codemirror_mode": {
    "name": "ipython",
    "version": 3
   },
   "file_extension": ".py",
   "mimetype": "text/x-python",
   "name": "python",
   "nbconvert_exporter": "python",
   "pygments_lexer": "ipython3",
   "version": "3.9.12"
  },
  "orig_nbformat": 4
 },
 "nbformat": 4,
 "nbformat_minor": 2
}
